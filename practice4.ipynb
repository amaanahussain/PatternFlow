{
  "nbformat": 4,
  "nbformat_minor": 0,
  "metadata": {
    "colab": {
      "provenance": [],
      "authorship_tag": "ABX9TyPoqkUNEZmgaTrFU4gqFhYz",
      "include_colab_link": true
    },
    "kernelspec": {
      "name": "python3",
      "display_name": "Python 3"
    },
    "language_info": {
      "name": "python"
    }
  },
  "cells": [
    {
      "cell_type": "markdown",
      "metadata": {
        "id": "view-in-github",
        "colab_type": "text"
      },
      "source": [
        "<a href=\"https://colab.research.google.com/github/amaanahussain/PatternFlow/blob/topic-recognition/practice4.ipynb\" target=\"_parent\"><img src=\"https://colab.research.google.com/assets/colab-badge.svg\" alt=\"Open In Colab\"/></a>"
      ]
    },
    {
      "cell_type": "code",
      "execution_count": null,
      "metadata": {
        "id": "srFOxHRF95Ql"
      },
      "outputs": [],
      "source": [
        "#practice uploading file to git repo "
      ]
    },
    {
      "cell_type": "code",
      "source": [],
      "metadata": {
        "id": "hv1y6cuTGreL"
      },
      "execution_count": null,
      "outputs": []
    }
  ]
}